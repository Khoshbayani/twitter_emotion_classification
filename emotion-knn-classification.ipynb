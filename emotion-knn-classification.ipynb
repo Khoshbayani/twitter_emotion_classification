{
 "cells": [
  {
   "cell_type": "code",
   "execution_count": 1,
   "id": "1b964b0b",
   "metadata": {
    "ExecuteTime": {
     "end_time": "2024-03-27T07:13:10.329726Z",
     "start_time": "2024-03-27T07:13:04.497911200Z"
    },
    "execution": {
     "iopub.execute_input": "2024-03-27T14:20:37.710891Z",
     "iopub.status.busy": "2024-03-27T14:20:37.709864Z",
     "iopub.status.idle": "2024-03-27T14:20:40.575030Z",
     "shell.execute_reply": "2024-03-27T14:20:40.573892Z"
    },
    "papermill": {
     "duration": 2.87655,
     "end_time": "2024-03-27T14:20:40.577828",
     "exception": false,
     "start_time": "2024-03-27T14:20:37.701278",
     "status": "completed"
    },
    "tags": []
   },
   "outputs": [],
   "source": [
    "import pandas as pd\n",
    "import string\n",
    "from nltk.tokenize import word_tokenize\n",
    "from nltk.corpus import stopwords\n",
    "from nltk.stem.porter import PorterStemmer\n",
    "from sklearn.feature_extraction.text import CountVectorizer\n",
    "from sklearn.neighbors import KNeighborsClassifier\n",
    "from sklearn.model_selection import train_test_split"
   ]
  },
  {
   "cell_type": "code",
   "execution_count": 2,
   "id": "45659a43",
   "metadata": {
    "ExecuteTime": {
     "end_time": "2024-03-27T07:13:11.248972400Z",
     "start_time": "2024-03-27T07:13:10.329726Z"
    },
    "collapsed": false,
    "execution": {
     "iopub.execute_input": "2024-03-27T14:20:40.593270Z",
     "iopub.status.busy": "2024-03-27T14:20:40.592229Z",
     "iopub.status.idle": "2024-03-27T14:20:41.961550Z",
     "shell.execute_reply": "2024-03-27T14:20:41.960296Z"
    },
    "jupyter": {
     "outputs_hidden": false
    },
    "papermill": {
     "duration": 1.37975,
     "end_time": "2024-03-27T14:20:41.964236",
     "exception": false,
     "start_time": "2024-03-27T14:20:40.584486",
     "status": "completed"
    },
    "tags": []
   },
   "outputs": [],
   "source": [
    "data = pd.read_csv(\"/kaggle/input/emotions/text.csv\")"
   ]
  },
  {
   "cell_type": "code",
   "execution_count": 3,
   "id": "443f88f1",
   "metadata": {
    "ExecuteTime": {
     "end_time": "2024-03-27T07:13:11.282434700Z",
     "start_time": "2024-03-27T07:13:11.248972400Z"
    },
    "collapsed": false,
    "execution": {
     "iopub.execute_input": "2024-03-27T14:20:41.980222Z",
     "iopub.status.busy": "2024-03-27T14:20:41.979795Z",
     "iopub.status.idle": "2024-03-27T14:20:41.995941Z",
     "shell.execute_reply": "2024-03-27T14:20:41.994807Z"
    },
    "jupyter": {
     "outputs_hidden": false
    },
    "papermill": {
     "duration": 0.026728,
     "end_time": "2024-03-27T14:20:41.998209",
     "exception": false,
     "start_time": "2024-03-27T14:20:41.971481",
     "status": "completed"
    },
    "tags": []
   },
   "outputs": [
    {
     "data": {
      "text/html": [
       "<div>\n",
       "<style scoped>\n",
       "    .dataframe tbody tr th:only-of-type {\n",
       "        vertical-align: middle;\n",
       "    }\n",
       "\n",
       "    .dataframe tbody tr th {\n",
       "        vertical-align: top;\n",
       "    }\n",
       "\n",
       "    .dataframe thead th {\n",
       "        text-align: right;\n",
       "    }\n",
       "</style>\n",
       "<table border=\"1\" class=\"dataframe\">\n",
       "  <thead>\n",
       "    <tr style=\"text-align: right;\">\n",
       "      <th></th>\n",
       "      <th>Unnamed: 0</th>\n",
       "      <th>text</th>\n",
       "      <th>label</th>\n",
       "    </tr>\n",
       "  </thead>\n",
       "  <tbody>\n",
       "    <tr>\n",
       "      <th>0</th>\n",
       "      <td>0</td>\n",
       "      <td>i just feel really helpless and heavy hearted</td>\n",
       "      <td>4</td>\n",
       "    </tr>\n",
       "    <tr>\n",
       "      <th>1</th>\n",
       "      <td>1</td>\n",
       "      <td>ive enjoyed being able to slouch about relax a...</td>\n",
       "      <td>0</td>\n",
       "    </tr>\n",
       "    <tr>\n",
       "      <th>2</th>\n",
       "      <td>2</td>\n",
       "      <td>i gave up my internship with the dmrg and am f...</td>\n",
       "      <td>4</td>\n",
       "    </tr>\n",
       "    <tr>\n",
       "      <th>3</th>\n",
       "      <td>3</td>\n",
       "      <td>i dont know i feel so lost</td>\n",
       "      <td>0</td>\n",
       "    </tr>\n",
       "    <tr>\n",
       "      <th>4</th>\n",
       "      <td>4</td>\n",
       "      <td>i am a kindergarten teacher and i am thoroughl...</td>\n",
       "      <td>4</td>\n",
       "    </tr>\n",
       "  </tbody>\n",
       "</table>\n",
       "</div>"
      ],
      "text/plain": [
       "   Unnamed: 0                                               text  label\n",
       "0           0      i just feel really helpless and heavy hearted      4\n",
       "1           1  ive enjoyed being able to slouch about relax a...      0\n",
       "2           2  i gave up my internship with the dmrg and am f...      4\n",
       "3           3                         i dont know i feel so lost      0\n",
       "4           4  i am a kindergarten teacher and i am thoroughl...      4"
      ]
     },
     "execution_count": 3,
     "metadata": {},
     "output_type": "execute_result"
    }
   ],
   "source": [
    "data.head()"
   ]
  },
  {
   "cell_type": "code",
   "execution_count": 4,
   "id": "f6241a09",
   "metadata": {
    "ExecuteTime": {
     "end_time": "2024-03-27T07:13:11.316958100Z",
     "start_time": "2024-03-27T07:13:11.267397700Z"
    },
    "collapsed": false,
    "execution": {
     "iopub.execute_input": "2024-03-27T14:20:42.014065Z",
     "iopub.status.busy": "2024-03-27T14:20:42.013019Z",
     "iopub.status.idle": "2024-03-27T14:20:42.027839Z",
     "shell.execute_reply": "2024-03-27T14:20:42.026746Z"
    },
    "jupyter": {
     "outputs_hidden": false
    },
    "papermill": {
     "duration": 0.025106,
     "end_time": "2024-03-27T14:20:42.030146",
     "exception": false,
     "start_time": "2024-03-27T14:20:42.005040",
     "status": "completed"
    },
    "tags": []
   },
   "outputs": [
    {
     "data": {
      "text/plain": [
       "6"
      ]
     },
     "execution_count": 4,
     "metadata": {},
     "output_type": "execute_result"
    }
   ],
   "source": [
    "data['label'].nunique()"
   ]
  },
  {
   "cell_type": "markdown",
   "id": "16aab5f5",
   "metadata": {
    "papermill": {
     "duration": 0.00713,
     "end_time": "2024-03-27T14:20:42.044344",
     "exception": false,
     "start_time": "2024-03-27T14:20:42.037214",
     "status": "completed"
    },
    "tags": []
   },
   "source": []
  },
  {
   "cell_type": "code",
   "execution_count": 5,
   "id": "507e687d",
   "metadata": {
    "ExecuteTime": {
     "end_time": "2024-03-27T07:13:11.587217300Z",
     "start_time": "2024-03-27T07:13:11.308433100Z"
    },
    "collapsed": false,
    "execution": {
     "iopub.execute_input": "2024-03-27T14:20:42.060948Z",
     "iopub.status.busy": "2024-03-27T14:20:42.059535Z",
     "iopub.status.idle": "2024-03-27T14:20:42.105665Z",
     "shell.execute_reply": "2024-03-27T14:20:42.104682Z"
    },
    "jupyter": {
     "outputs_hidden": false
    },
    "papermill": {
     "duration": 0.056544,
     "end_time": "2024-03-27T14:20:42.107839",
     "exception": false,
     "start_time": "2024-03-27T14:20:42.051295",
     "status": "completed"
    },
    "tags": []
   },
   "outputs": [
    {
     "data": {
      "text/plain": [
       "0"
      ]
     },
     "execution_count": 5,
     "metadata": {},
     "output_type": "execute_result"
    }
   ],
   "source": [
    "data.isna().sum().sum()"
   ]
  },
  {
   "cell_type": "code",
   "execution_count": 6,
   "id": "5df42150",
   "metadata": {
    "ExecuteTime": {
     "end_time": "2024-03-27T07:13:11.721347200Z",
     "start_time": "2024-03-27T07:13:11.342902900Z"
    },
    "collapsed": false,
    "execution": {
     "iopub.execute_input": "2024-03-27T14:20:42.124445Z",
     "iopub.status.busy": "2024-03-27T14:20:42.123304Z",
     "iopub.status.idle": "2024-03-27T14:20:42.132352Z",
     "shell.execute_reply": "2024-03-27T14:20:42.131207Z"
    },
    "jupyter": {
     "outputs_hidden": false
    },
    "papermill": {
     "duration": 0.019543,
     "end_time": "2024-03-27T14:20:42.134554",
     "exception": false,
     "start_time": "2024-03-27T14:20:42.115011",
     "status": "completed"
    },
    "tags": []
   },
   "outputs": [
    {
     "data": {
      "text/plain": [
       "0              0\n",
       "1              1\n",
       "2              2\n",
       "3              3\n",
       "4              4\n",
       "           ...  \n",
       "416804    416804\n",
       "416805    416805\n",
       "416806    416806\n",
       "416807    416807\n",
       "416808    416808\n",
       "Name: Unnamed: 0, Length: 416809, dtype: int64"
      ]
     },
     "execution_count": 6,
     "metadata": {},
     "output_type": "execute_result"
    }
   ],
   "source": [
    "data['Unnamed: 0']"
   ]
  },
  {
   "cell_type": "code",
   "execution_count": 7,
   "id": "acda6566",
   "metadata": {
    "ExecuteTime": {
     "end_time": "2024-03-27T07:13:11.721347200Z",
     "start_time": "2024-03-27T07:13:11.349592100Z"
    },
    "collapsed": false,
    "execution": {
     "iopub.execute_input": "2024-03-27T14:20:42.153091Z",
     "iopub.status.busy": "2024-03-27T14:20:42.152696Z",
     "iopub.status.idle": "2024-03-27T14:20:42.177266Z",
     "shell.execute_reply": "2024-03-27T14:20:42.176103Z"
    },
    "jupyter": {
     "outputs_hidden": false
    },
    "papermill": {
     "duration": 0.037066,
     "end_time": "2024-03-27T14:20:42.179805",
     "exception": false,
     "start_time": "2024-03-27T14:20:42.142739",
     "status": "completed"
    },
    "tags": []
   },
   "outputs": [],
   "source": [
    "#the Unnamed: 0 is not useful here\n",
    "data.drop(\"Unnamed: 0\",axis=\"columns\",inplace=True)"
   ]
  },
  {
   "cell_type": "code",
   "execution_count": 8,
   "id": "dc01337b",
   "metadata": {
    "ExecuteTime": {
     "end_time": "2024-03-27T07:13:11.722348900Z",
     "start_time": "2024-03-27T07:13:11.371944100Z"
    },
    "collapsed": false,
    "execution": {
     "iopub.execute_input": "2024-03-27T14:20:42.196837Z",
     "iopub.status.busy": "2024-03-27T14:20:42.196201Z",
     "iopub.status.idle": "2024-03-27T14:20:42.202997Z",
     "shell.execute_reply": "2024-03-27T14:20:42.201997Z"
    },
    "jupyter": {
     "outputs_hidden": false
    },
    "papermill": {
     "duration": 0.017745,
     "end_time": "2024-03-27T14:20:42.205164",
     "exception": false,
     "start_time": "2024-03-27T14:20:42.187419",
     "status": "completed"
    },
    "tags": []
   },
   "outputs": [
    {
     "data": {
      "text/plain": [
       "Index(['text', 'label'], dtype='object')"
      ]
     },
     "execution_count": 8,
     "metadata": {},
     "output_type": "execute_result"
    }
   ],
   "source": [
    "data.columns"
   ]
  },
  {
   "cell_type": "code",
   "execution_count": 9,
   "id": "56a8c4f5",
   "metadata": {
    "ExecuteTime": {
     "end_time": "2024-03-27T07:13:11.723348500Z",
     "start_time": "2024-03-27T07:13:11.381632800Z"
    },
    "collapsed": false,
    "execution": {
     "iopub.execute_input": "2024-03-27T14:20:42.222403Z",
     "iopub.status.busy": "2024-03-27T14:20:42.221368Z",
     "iopub.status.idle": "2024-03-27T14:20:42.228152Z",
     "shell.execute_reply": "2024-03-27T14:20:42.226818Z"
    },
    "jupyter": {
     "outputs_hidden": false
    },
    "papermill": {
     "duration": 0.017658,
     "end_time": "2024-03-27T14:20:42.230273",
     "exception": false,
     "start_time": "2024-03-27T14:20:42.212615",
     "status": "completed"
    },
    "tags": []
   },
   "outputs": [
    {
     "name": "stdout",
     "output_type": "stream",
     "text": [
      "i just feel really helpless and heavy hearted\n",
      "==========================\n",
      "ive enjoyed being able to slouch about relax and unwind and frankly needed it after those last few weeks around the end of uni and the expo i have lately started to find myself feeling a bit listless which is never really a good thing\n",
      "==========================\n",
      "i gave up my internship with the dmrg and am feeling distraught\n",
      "==========================\n",
      "i dont know i feel so lost\n",
      "==========================\n",
      "i am a kindergarten teacher and i am thoroughly weary of my job after having taken the university entrance exam i suffered from anxiety for weeks as i did not want to carry on with my work studies were the only alternative\n",
      "==========================\n"
     ]
    }
   ],
   "source": [
    "# this way is better than data['text'].head() because we can see the full text of first five rows\n",
    "for i in range(5):\n",
    "    text = data['text'][i]\n",
    "    print(text)\n",
    "    print(\"==========================\")"
   ]
  },
  {
   "cell_type": "raw",
   "id": "013559a8",
   "metadata": {
    "papermill": {
     "duration": 0.007263,
     "end_time": "2024-03-27T14:20:42.245361",
     "exception": false,
     "start_time": "2024-03-27T14:20:42.238098",
     "status": "completed"
    },
    "tags": []
   },
   "source": [
    "It seems that all characters are in lower case , but we will try to make them lower case again \n",
    "to make sure every character is lower case and there will not be an exception"
   ]
  },
  {
   "cell_type": "code",
   "execution_count": 10,
   "id": "c88eae99",
   "metadata": {
    "ExecuteTime": {
     "end_time": "2024-03-27T07:13:11.724580500Z",
     "start_time": "2024-03-27T07:13:11.469781100Z"
    },
    "collapsed": false,
    "execution": {
     "iopub.execute_input": "2024-03-27T14:20:42.262588Z",
     "iopub.status.busy": "2024-03-27T14:20:42.261665Z",
     "iopub.status.idle": "2024-03-27T14:20:42.396808Z",
     "shell.execute_reply": "2024-03-27T14:20:42.395655Z"
    },
    "jupyter": {
     "outputs_hidden": false
    },
    "papermill": {
     "duration": 0.146379,
     "end_time": "2024-03-27T14:20:42.399273",
     "exception": false,
     "start_time": "2024-03-27T14:20:42.252894",
     "status": "completed"
    },
    "tags": []
   },
   "outputs": [],
   "source": [
    "all_texts = \" \".join(data['text'])"
   ]
  },
  {
   "cell_type": "code",
   "execution_count": 11,
   "id": "63f36b5a",
   "metadata": {
    "ExecuteTime": {
     "end_time": "2024-03-27T07:13:11.725580100Z",
     "start_time": "2024-03-27T07:13:11.476965300Z"
    },
    "collapsed": false,
    "execution": {
     "iopub.execute_input": "2024-03-27T14:20:42.417495Z",
     "iopub.status.busy": "2024-03-27T14:20:42.416674Z",
     "iopub.status.idle": "2024-03-27T14:20:42.423664Z",
     "shell.execute_reply": "2024-03-27T14:20:42.422432Z"
    },
    "jupyter": {
     "outputs_hidden": false
    },
    "papermill": {
     "duration": 0.018814,
     "end_time": "2024-03-27T14:20:42.425772",
     "exception": false,
     "start_time": "2024-03-27T14:20:42.406958",
     "status": "completed"
    },
    "tags": []
   },
   "outputs": [
    {
     "data": {
      "text/plain": [
       "'i just feel really helpless and heavy hearted ive enjoyed being able to slouch about relax and unwind and frankly needed it after those last few weeks around the end of uni and the expo i have lately started to find myself feeling a bit listless which is never really a good thing i gave up my internship with the dmrg and am feeling distraught i dont know i feel so lost i am a kindergarten teacher and i am thoroughly weary of my job after having taken the university entrance exam i suffered from anxiety for weeks as i did not want to carry on with my work studies were the only alternative i was'"
      ]
     },
     "execution_count": 11,
     "metadata": {},
     "output_type": "execute_result"
    }
   ],
   "source": [
    "all_texts[:600]"
   ]
  },
  {
   "cell_type": "code",
   "execution_count": 12,
   "id": "f0594a2f",
   "metadata": {
    "ExecuteTime": {
     "end_time": "2024-03-27T07:13:11.784607200Z",
     "start_time": "2024-03-27T07:13:11.485786900Z"
    },
    "collapsed": false,
    "execution": {
     "iopub.execute_input": "2024-03-27T14:20:42.443049Z",
     "iopub.status.busy": "2024-03-27T14:20:42.442642Z",
     "iopub.status.idle": "2024-03-27T14:20:42.563971Z",
     "shell.execute_reply": "2024-03-27T14:20:42.562754Z"
    },
    "jupyter": {
     "outputs_hidden": false
    },
    "papermill": {
     "duration": 0.132678,
     "end_time": "2024-03-27T14:20:42.566389",
     "exception": false,
     "start_time": "2024-03-27T14:20:42.433711",
     "status": "completed"
    },
    "tags": []
   },
   "outputs": [
    {
     "name": "stdout",
     "output_type": "stream",
     "text": [
      "the texts are clear from any punctuation\n"
     ]
    }
   ],
   "source": [
    "for punc in string.punctuation:\n",
    "    if all_texts.find(punc) != -1:\n",
    "        print(f\"we found {punc} on the text\")\n",
    "        break\n",
    "else:\n",
    "    print(\"the texts are clear from any punctuation\")"
   ]
  },
  {
   "cell_type": "code",
   "execution_count": 13,
   "id": "29c79a68",
   "metadata": {
    "ExecuteTime": {
     "end_time": "2024-03-27T07:13:11.784607200Z",
     "start_time": "2024-03-27T07:13:11.634493100Z"
    },
    "collapsed": false,
    "execution": {
     "iopub.execute_input": "2024-03-27T14:20:42.584174Z",
     "iopub.status.busy": "2024-03-27T14:20:42.583801Z",
     "iopub.status.idle": "2024-03-27T14:20:42.596944Z",
     "shell.execute_reply": "2024-03-27T14:20:42.595811Z"
    },
    "jupyter": {
     "outputs_hidden": false
    },
    "papermill": {
     "duration": 0.025114,
     "end_time": "2024-03-27T14:20:42.599491",
     "exception": false,
     "start_time": "2024-03-27T14:20:42.574377",
     "status": "completed"
    },
    "tags": []
   },
   "outputs": [],
   "source": [
    "stemer = PorterStemmer()\n",
    "stp_words = stopwords.words(\"english\")\n",
    "def preprocess(text):\n",
    "    preprocessed_txt = \"\"\n",
    "    tokens = word_tokenize(text)\n",
    "    for token in tokens:\n",
    "        if token not in stp_words :\n",
    "            lower_token = token.lower()\n",
    "            stemed_token = stemer.stem(lower_token)\n",
    "            preprocessed_txt += stemed_token + \" \"\n",
    "    else:\n",
    "        preprocessed_txt = preprocessed_txt[:-1]\n",
    "    return preprocessed_txt"
   ]
  },
  {
   "cell_type": "code",
   "execution_count": 14,
   "id": "a1e3577c",
   "metadata": {
    "ExecuteTime": {
     "end_time": "2024-03-27T07:14:50.131902800Z",
     "start_time": "2024-03-27T07:13:11.649336400Z"
    },
    "collapsed": false,
    "execution": {
     "iopub.execute_input": "2024-03-27T14:20:42.618069Z",
     "iopub.status.busy": "2024-03-27T14:20:42.617183Z",
     "iopub.status.idle": "2024-03-27T14:23:47.458541Z",
     "shell.execute_reply": "2024-03-27T14:23:47.457430Z"
    },
    "jupyter": {
     "outputs_hidden": false
    },
    "papermill": {
     "duration": 184.853489,
     "end_time": "2024-03-27T14:23:47.461281",
     "exception": false,
     "start_time": "2024-03-27T14:20:42.607792",
     "status": "completed"
    },
    "tags": []
   },
   "outputs": [],
   "source": [
    "data['text'] = data['text'].apply(preprocess)"
   ]
  },
  {
   "cell_type": "code",
   "execution_count": 15,
   "id": "d139317b",
   "metadata": {
    "ExecuteTime": {
     "end_time": "2024-03-27T07:55:53.493256700Z",
     "start_time": "2024-03-27T07:55:50.235693600Z"
    },
    "collapsed": false,
    "execution": {
     "iopub.execute_input": "2024-03-27T14:23:47.479710Z",
     "iopub.status.busy": "2024-03-27T14:23:47.479298Z",
     "iopub.status.idle": "2024-03-27T14:23:52.054553Z",
     "shell.execute_reply": "2024-03-27T14:23:52.053609Z"
    },
    "jupyter": {
     "outputs_hidden": false
    },
    "papermill": {
     "duration": 4.587359,
     "end_time": "2024-03-27T14:23:52.057247",
     "exception": false,
     "start_time": "2024-03-27T14:23:47.469888",
     "status": "completed"
    },
    "tags": []
   },
   "outputs": [],
   "source": [
    "count_vectorizer = CountVectorizer(min_df=4)\n",
    "X = count_vectorizer.fit_transform(data['text'])"
   ]
  },
  {
   "cell_type": "code",
   "execution_count": 16,
   "id": "426ac84b",
   "metadata": {
    "ExecuteTime": {
     "end_time": "2024-03-27T07:55:53.524420900Z",
     "start_time": "2024-03-27T07:55:53.506247700Z"
    },
    "collapsed": false,
    "execution": {
     "iopub.execute_input": "2024-03-27T14:23:52.075870Z",
     "iopub.status.busy": "2024-03-27T14:23:52.074927Z",
     "iopub.status.idle": "2024-03-27T14:23:52.093450Z",
     "shell.execute_reply": "2024-03-27T14:23:52.092606Z"
    },
    "jupyter": {
     "outputs_hidden": false
    },
    "papermill": {
     "duration": 0.030169,
     "end_time": "2024-03-27T14:23:52.095606",
     "exception": false,
     "start_time": "2024-03-27T14:23:52.065437",
     "status": "completed"
    },
    "tags": []
   },
   "outputs": [],
   "source": [
    "features = count_vectorizer.get_feature_names_out()"
   ]
  },
  {
   "cell_type": "code",
   "execution_count": 17,
   "id": "1bc4fc17",
   "metadata": {
    "ExecuteTime": {
     "end_time": "2024-03-27T07:55:53.549498100Z",
     "start_time": "2024-03-27T07:55:53.524420900Z"
    },
    "collapsed": false,
    "execution": {
     "iopub.execute_input": "2024-03-27T14:23:52.113516Z",
     "iopub.status.busy": "2024-03-27T14:23:52.113115Z",
     "iopub.status.idle": "2024-03-27T14:23:52.119828Z",
     "shell.execute_reply": "2024-03-27T14:23:52.118834Z"
    },
    "jupyter": {
     "outputs_hidden": false
    },
    "papermill": {
     "duration": 0.018121,
     "end_time": "2024-03-27T14:23:52.121822",
     "exception": false,
     "start_time": "2024-03-27T14:23:52.103701",
     "status": "completed"
    },
    "tags": []
   },
   "outputs": [
    {
     "data": {
      "text/plain": [
       "16456"
      ]
     },
     "execution_count": 17,
     "metadata": {},
     "output_type": "execute_result"
    }
   ],
   "source": [
    "len(features)"
   ]
  },
  {
   "cell_type": "code",
   "execution_count": 18,
   "id": "954d2446",
   "metadata": {
    "ExecuteTime": {
     "end_time": "2024-03-27T07:55:57.911855100Z",
     "start_time": "2024-03-27T07:55:57.880441400Z"
    },
    "collapsed": false,
    "execution": {
     "iopub.execute_input": "2024-03-27T14:23:52.140043Z",
     "iopub.status.busy": "2024-03-27T14:23:52.139624Z",
     "iopub.status.idle": "2024-03-27T14:23:52.144771Z",
     "shell.execute_reply": "2024-03-27T14:23:52.143470Z"
    },
    "jupyter": {
     "outputs_hidden": false
    },
    "papermill": {
     "duration": 0.016705,
     "end_time": "2024-03-27T14:23:52.146778",
     "exception": false,
     "start_time": "2024-03-27T14:23:52.130073",
     "status": "completed"
    },
    "tags": []
   },
   "outputs": [],
   "source": [
    "y = data['label']"
   ]
  },
  {
   "cell_type": "raw",
   "id": "10bfb781",
   "metadata": {
    "papermill": {
     "duration": 0.008155,
     "end_time": "2024-03-27T14:23:52.163254",
     "exception": false,
     "start_time": "2024-03-27T14:23:52.155099",
     "status": "completed"
    },
    "tags": []
   },
   "source": [
    "The end of preprocessing. Let's classify it."
   ]
  },
  {
   "cell_type": "code",
   "execution_count": 19,
   "id": "bbf5f4fd",
   "metadata": {
    "ExecuteTime": {
     "end_time": "2024-03-27T07:55:58.867295600Z",
     "start_time": "2024-03-27T07:55:58.790834Z"
    },
    "collapsed": false,
    "execution": {
     "iopub.execute_input": "2024-03-27T14:23:52.182051Z",
     "iopub.status.busy": "2024-03-27T14:23:52.181327Z",
     "iopub.status.idle": "2024-03-27T14:23:52.260079Z",
     "shell.execute_reply": "2024-03-27T14:23:52.259012Z"
    },
    "jupyter": {
     "outputs_hidden": false
    },
    "papermill": {
     "duration": 0.091103,
     "end_time": "2024-03-27T14:23:52.262707",
     "exception": false,
     "start_time": "2024-03-27T14:23:52.171604",
     "status": "completed"
    },
    "tags": []
   },
   "outputs": [],
   "source": [
    "X_train, X_test, y_train, y_test = train_test_split(X,y,test_size=0.33)"
   ]
  },
  {
   "cell_type": "code",
   "execution_count": 20,
   "id": "6f55da03",
   "metadata": {
    "ExecuteTime": {
     "end_time": "2024-03-27T07:55:59.557942200Z",
     "start_time": "2024-03-27T07:55:59.495217400Z"
    },
    "collapsed": false,
    "execution": {
     "iopub.execute_input": "2024-03-27T14:23:52.281485Z",
     "iopub.status.busy": "2024-03-27T14:23:52.280865Z",
     "iopub.status.idle": "2024-03-27T14:23:52.340329Z",
     "shell.execute_reply": "2024-03-27T14:23:52.339250Z"
    },
    "jupyter": {
     "outputs_hidden": false
    },
    "papermill": {
     "duration": 0.071591,
     "end_time": "2024-03-27T14:23:52.342773",
     "exception": false,
     "start_time": "2024-03-27T14:23:52.271182",
     "status": "completed"
    },
    "tags": []
   },
   "outputs": [
    {
     "data": {
      "text/html": [
       "<style>#sk-container-id-1 {color: black;background-color: white;}#sk-container-id-1 pre{padding: 0;}#sk-container-id-1 div.sk-toggleable {background-color: white;}#sk-container-id-1 label.sk-toggleable__label {cursor: pointer;display: block;width: 100%;margin-bottom: 0;padding: 0.3em;box-sizing: border-box;text-align: center;}#sk-container-id-1 label.sk-toggleable__label-arrow:before {content: \"▸\";float: left;margin-right: 0.25em;color: #696969;}#sk-container-id-1 label.sk-toggleable__label-arrow:hover:before {color: black;}#sk-container-id-1 div.sk-estimator:hover label.sk-toggleable__label-arrow:before {color: black;}#sk-container-id-1 div.sk-toggleable__content {max-height: 0;max-width: 0;overflow: hidden;text-align: left;background-color: #f0f8ff;}#sk-container-id-1 div.sk-toggleable__content pre {margin: 0.2em;color: black;border-radius: 0.25em;background-color: #f0f8ff;}#sk-container-id-1 input.sk-toggleable__control:checked~div.sk-toggleable__content {max-height: 200px;max-width: 100%;overflow: auto;}#sk-container-id-1 input.sk-toggleable__control:checked~label.sk-toggleable__label-arrow:before {content: \"▾\";}#sk-container-id-1 div.sk-estimator input.sk-toggleable__control:checked~label.sk-toggleable__label {background-color: #d4ebff;}#sk-container-id-1 div.sk-label input.sk-toggleable__control:checked~label.sk-toggleable__label {background-color: #d4ebff;}#sk-container-id-1 input.sk-hidden--visually {border: 0;clip: rect(1px 1px 1px 1px);clip: rect(1px, 1px, 1px, 1px);height: 1px;margin: -1px;overflow: hidden;padding: 0;position: absolute;width: 1px;}#sk-container-id-1 div.sk-estimator {font-family: monospace;background-color: #f0f8ff;border: 1px dotted black;border-radius: 0.25em;box-sizing: border-box;margin-bottom: 0.5em;}#sk-container-id-1 div.sk-estimator:hover {background-color: #d4ebff;}#sk-container-id-1 div.sk-parallel-item::after {content: \"\";width: 100%;border-bottom: 1px solid gray;flex-grow: 1;}#sk-container-id-1 div.sk-label:hover label.sk-toggleable__label {background-color: #d4ebff;}#sk-container-id-1 div.sk-serial::before {content: \"\";position: absolute;border-left: 1px solid gray;box-sizing: border-box;top: 0;bottom: 0;left: 50%;z-index: 0;}#sk-container-id-1 div.sk-serial {display: flex;flex-direction: column;align-items: center;background-color: white;padding-right: 0.2em;padding-left: 0.2em;position: relative;}#sk-container-id-1 div.sk-item {position: relative;z-index: 1;}#sk-container-id-1 div.sk-parallel {display: flex;align-items: stretch;justify-content: center;background-color: white;position: relative;}#sk-container-id-1 div.sk-item::before, #sk-container-id-1 div.sk-parallel-item::before {content: \"\";position: absolute;border-left: 1px solid gray;box-sizing: border-box;top: 0;bottom: 0;left: 50%;z-index: -1;}#sk-container-id-1 div.sk-parallel-item {display: flex;flex-direction: column;z-index: 1;position: relative;background-color: white;}#sk-container-id-1 div.sk-parallel-item:first-child::after {align-self: flex-end;width: 50%;}#sk-container-id-1 div.sk-parallel-item:last-child::after {align-self: flex-start;width: 50%;}#sk-container-id-1 div.sk-parallel-item:only-child::after {width: 0;}#sk-container-id-1 div.sk-dashed-wrapped {border: 1px dashed gray;margin: 0 0.4em 0.5em 0.4em;box-sizing: border-box;padding-bottom: 0.4em;background-color: white;}#sk-container-id-1 div.sk-label label {font-family: monospace;font-weight: bold;display: inline-block;line-height: 1.2em;}#sk-container-id-1 div.sk-label-container {text-align: center;}#sk-container-id-1 div.sk-container {/* jupyter's `normalize.less` sets `[hidden] { display: none; }` but bootstrap.min.css set `[hidden] { display: none !important; }` so we also need the `!important` here to be able to override the default hidden behavior on the sphinx rendered scikit-learn.org. See: https://github.com/scikit-learn/scikit-learn/issues/21755 */display: inline-block !important;position: relative;}#sk-container-id-1 div.sk-text-repr-fallback {display: none;}</style><div id=\"sk-container-id-1\" class=\"sk-top-container\"><div class=\"sk-text-repr-fallback\"><pre>KNeighborsClassifier()</pre><b>In a Jupyter environment, please rerun this cell to show the HTML representation or trust the notebook. <br />On GitHub, the HTML representation is unable to render, please try loading this page with nbviewer.org.</b></div><div class=\"sk-container\" hidden><div class=\"sk-item\"><div class=\"sk-estimator sk-toggleable\"><input class=\"sk-toggleable__control sk-hidden--visually\" id=\"sk-estimator-id-1\" type=\"checkbox\" checked><label for=\"sk-estimator-id-1\" class=\"sk-toggleable__label sk-toggleable__label-arrow\">KNeighborsClassifier</label><div class=\"sk-toggleable__content\"><pre>KNeighborsClassifier()</pre></div></div></div></div></div>"
      ],
      "text/plain": [
       "KNeighborsClassifier()"
      ]
     },
     "execution_count": 20,
     "metadata": {},
     "output_type": "execute_result"
    }
   ],
   "source": [
    "knn = KNeighborsClassifier()\n",
    "knn.fit(X_train,y_train)"
   ]
  },
  {
   "cell_type": "code",
   "execution_count": 21,
   "id": "7be646a1",
   "metadata": {
    "ExecuteTime": {
     "end_time": "2024-03-27T08:12:46.919475600Z",
     "start_time": "2024-03-27T07:56:00.871636500Z"
    },
    "collapsed": false,
    "execution": {
     "iopub.execute_input": "2024-03-27T14:23:52.362430Z",
     "iopub.status.busy": "2024-03-27T14:23:52.361495Z",
     "iopub.status.idle": "2024-03-27T14:57:06.086448Z",
     "shell.execute_reply": "2024-03-27T14:57:06.085284Z"
    },
    "jupyter": {
     "outputs_hidden": false
    },
    "papermill": {
     "duration": 1993.746962,
     "end_time": "2024-03-27T14:57:06.098553",
     "exception": false,
     "start_time": "2024-03-27T14:23:52.351591",
     "status": "completed"
    },
    "tags": []
   },
   "outputs": [
    {
     "data": {
      "text/plain": [
       "0.7445963925058343"
      ]
     },
     "execution_count": 21,
     "metadata": {},
     "output_type": "execute_result"
    }
   ],
   "source": [
    "knn.score(X_test,y_test)"
   ]
  },
  {
   "cell_type": "code",
   "execution_count": null,
   "id": "d5bcedc2",
   "metadata": {
    "ExecuteTime": {
     "end_time": "2024-03-27T08:12:46.934324900Z",
     "start_time": "2024-03-27T08:12:46.927855600Z"
    },
    "collapsed": false,
    "jupyter": {
     "outputs_hidden": false
    },
    "papermill": {
     "duration": 0.008465,
     "end_time": "2024-03-27T14:57:06.115806",
     "exception": false,
     "start_time": "2024-03-27T14:57:06.107341",
     "status": "completed"
    },
    "tags": []
   },
   "outputs": [],
   "source": []
  },
  {
   "cell_type": "code",
   "execution_count": 22,
   "id": "b08b5e29",
   "metadata": {
    "ExecuteTime": {
     "end_time": "2024-03-27T08:45:39.153068500Z",
     "start_time": "2024-03-27T08:12:46.927855600Z"
    },
    "collapsed": false,
    "execution": {
     "iopub.execute_input": "2024-03-27T14:57:06.135756Z",
     "iopub.status.busy": "2024-03-27T14:57:06.135347Z",
     "iopub.status.idle": "2024-03-27T16:04:16.582350Z",
     "shell.execute_reply": "2024-03-27T16:04:16.581133Z"
    },
    "jupyter": {
     "outputs_hidden": false
    },
    "papermill": {
     "duration": 4030.469535,
     "end_time": "2024-03-27T16:04:16.594088",
     "exception": false,
     "start_time": "2024-03-27T14:57:06.124553",
     "status": "completed"
    },
    "tags": []
   },
   "outputs": [
    {
     "data": {
      "text/plain": [
       "0.828623299983528"
      ]
     },
     "execution_count": 22,
     "metadata": {},
     "output_type": "execute_result"
    }
   ],
   "source": [
    "knn.score(X_train,y_train)"
   ]
  },
  {
   "cell_type": "code",
   "execution_count": null,
   "id": "5118ca78",
   "metadata": {
    "ExecuteTime": {
     "end_time": "2024-03-26T18:40:42.571434700Z",
     "start_time": "2024-03-26T18:40:42.567018600Z"
    },
    "collapsed": false,
    "jupyter": {
     "outputs_hidden": false
    },
    "papermill": {
     "duration": 0.008822,
     "end_time": "2024-03-27T16:04:16.612028",
     "exception": false,
     "start_time": "2024-03-27T16:04:16.603206",
     "status": "completed"
    },
    "tags": []
   },
   "outputs": [],
   "source": []
  }
 ],
 "metadata": {
  "kaggle": {
   "accelerator": "none",
   "dataSources": [
    {
     "datasetId": 4403839,
     "sourceId": 7563141,
     "sourceType": "datasetVersion"
    }
   ],
   "isGpuEnabled": false,
   "isInternetEnabled": true,
   "language": "python",
   "sourceType": "notebook"
  },
  "kernelspec": {
   "display_name": "Python 3",
   "language": "python",
   "name": "python3"
  },
  "language_info": {
   "codemirror_mode": {
    "name": "ipython",
    "version": 3
   },
   "file_extension": ".py",
   "mimetype": "text/x-python",
   "name": "python",
   "nbconvert_exporter": "python",
   "pygments_lexer": "ipython3",
   "version": "3.10.13"
  },
  "papermill": {
   "default_parameters": {},
   "duration": 6222.61919,
   "end_time": "2024-03-27T16:04:17.454282",
   "environment_variables": {},
   "exception": null,
   "input_path": "__notebook__.ipynb",
   "output_path": "__notebook__.ipynb",
   "parameters": {},
   "start_time": "2024-03-27T14:20:34.835092",
   "version": "2.5.0"
  }
 },
 "nbformat": 4,
 "nbformat_minor": 5
}
